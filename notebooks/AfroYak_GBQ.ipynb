{
 "cells": [
  {
   "cell_type": "code",
   "execution_count": 200,
   "metadata": {},
   "outputs": [],
   "source": [
    "import pandas as pd\n",
    "import numpy as np\n",
    "from scipy.stats import shapiro\n"
   ]
  },
  {
   "cell_type": "code",
   "execution_count": 201,
   "metadata": {},
   "outputs": [
    {
     "name": "stderr",
     "output_type": "stream",
     "text": [
      "/home/omer/.pyenv/versions/3.8.12/envs/classipy/lib/python3.8/site-packages/google/cloud/bigquery/table.py:1967: FutureWarning: Using .astype to convert from timezone-aware dtype to timezone-naive dtype is deprecated and will raise in a future version.  Use obj.tz_localize(None) or obj.tz_convert('UTC').tz_localize(None) instead\n",
      "  df[column] = pandas.Series(df[column], dtype=dtypes[column])\n"
     ]
    }
   ],
   "source": [
    "dataset_name = \"bigquery-public-data.austin_crime.crime\"\n",
    "query = f\"\"\"\n",
    "select * from {dataset_name}\n",
    "\"\"\"\n",
    "crime_df = pd.read_gbq(query);"
   ]
  },
  {
   "cell_type": "code",
   "execution_count": 198,
   "metadata": {},
   "outputs": [],
   "source": [
    "def get_row(column,dataset_name):\n",
    "    col = column.sample(1000)\n",
    "\n",
    "    col_mean = np.nan\n",
    "    col_median = np.nan\n",
    "    col_std = np.nan\n",
    "    wilk_test = np.nan\n",
    "\n",
    "    if col.dtype in [np.dtype('int') ,np.dtype('float')]:\n",
    "        col_mean = col.mean()\n",
    "        col_std = col.std()\n",
    "        col_median = col.median()\n",
    "        _, wilk_test = shapiro(col) # Normality when the p-value is greater than or equal to 0.05\n",
    "        \n",
    "    rows={\n",
    "        'dataset_name': [dataset_name],\n",
    "        'column_name':[column.name],\n",
    "        \"column_values\": [', '.join(map(str,col.tolist()))],\n",
    "        \"nunique_values\":[col.nunique()],\n",
    "        \"mean\" : col_mean,\n",
    "        \"std\" : col_std,\n",
    "        \"median\" : col_median,\n",
    "        \"shapiro_wilk_test\":[wilk_test],\n",
    "        \"label\":[np.nan]\n",
    "    }\n",
    "    \n",
    "    return pd.DataFrame.from_dict(rows)"
   ]
  },
  {
   "cell_type": "code",
   "execution_count": 203,
   "metadata": {},
   "outputs": [],
   "source": [
    "gbq_list = ['bigquery-public-data.austin_bikeshare.bikeshare_trips',\n",
    "            'bigquery-public-data.census_bureau_usa.population_by_zip_2010',\n",
    "            'bigquery-public-data.census_bureau_international.birth_death_growth_rates',\n",
    "            'bigquery-public-data.census_bureau_international.midyear_population_5yr_age_sex',\n",
    "            'bigquery-public-data.census_bureau_international.mortality_life_expectancy',\n",
    "            'bigquery-public-data.covid19_geotab_mobility_impact.airport_traffic',\n",
    "            'bigquery-public-data.covid19_geotab_mobility_impact.us_border_volumes',\n",
    "            'bigquery-public-data.covid19_nyt.excess_deaths',\n",
    "            'bigquery-public-data.covid19_nyt.mask_use_by_county',\n",
    "            'bigquery-public-data.fda_drug.drug_enforcement',\n",
    "            'bigquery-public-data.geo_us_boundaries.adjacent_counties',\n",
    "            'bigquery-public-data.geo_us_boundaries.states',\n",
    "            'bigquery-public-data.google_ads.geotargets',\n",
    "            'bigquery-public-data.hacker_news.comments',\n",
    "            'bigquery-public-data.london_bicycles.cycle_stations',\n",
    "            'bigquery-public-data.london_fire_brigade.fire_brigade_service_calls',\n",
    "            'bigquery-public-data.nasa_wildfire.past_week',\n",
    "            'bigquery-public-data.new_york.citibike_stations',\n",
    "            'bigquery-public-data.new_york_subway.geo_nyc_borough_boundaries',\n",
    "            'bigquery-public-data.new_york_subway.stations',\n",
    "            'bigquery-public-data.new_york_subway.stop_times',\n",
    "            'bigquery-public-data.san_francisco.bikeshare_stations',\n",
    "            'bigquery-public-data.san_francisco.bikeshare_trips',\n",
    "            'bigquery-public-data.san_francisco_trees.street_trees',\n",
    "            'bigquery-public-data.world_bank_global_population.population_by_country',\n",
    "            'bigquery-public-data.world_bank_health_population.country_summary'\n",
    "            ]"
   ]
  },
  {
   "cell_type": "code",
   "execution_count": 205,
   "metadata": {},
   "outputs": [],
   "source": [
    "for dataset_name in gbq_list[:3]:\n",
    "    query = f\"\"\"\n",
    "    select * from {dataset_name}\n",
    "    \"\"\"\n",
    "    df = pd.read_gbq(query)\n",
    "    \n",
    "    dataset_rows = [get_row(df[col_name],dataset_name) for col_name in df]\n",
    "    print(dataset_name, 'Completed!')\n",
    "    # output_dataset = pd.concat(dataset_rows, axis=0).reset_index(drop=True)\n",
    "    # output_dataset.head(10)\n"
   ]
  },
  {
   "cell_type": "markdown",
   "metadata": {},
   "source": [
    "## DO NOT TOUCH!"
   ]
  },
  {
   "cell_type": "code",
   "execution_count": 199,
   "metadata": {},
   "outputs": [
    {
     "data": {
      "text/html": [
       "<div>\n",
       "<style scoped>\n",
       "    .dataframe tbody tr th:only-of-type {\n",
       "        vertical-align: middle;\n",
       "    }\n",
       "\n",
       "    .dataframe tbody tr th {\n",
       "        vertical-align: top;\n",
       "    }\n",
       "\n",
       "    .dataframe thead th {\n",
       "        text-align: right;\n",
       "    }\n",
       "</style>\n",
       "<table border=\"1\" class=\"dataframe\">\n",
       "  <thead>\n",
       "    <tr style=\"text-align: right;\">\n",
       "      <th></th>\n",
       "      <th>dataset_name</th>\n",
       "      <th>column_name</th>\n",
       "      <th>column_values</th>\n",
       "      <th>nunique_values</th>\n",
       "      <th>mean</th>\n",
       "      <th>std</th>\n",
       "      <th>median</th>\n",
       "      <th>shapiro_wilk_test</th>\n",
       "      <th>label</th>\n",
       "    </tr>\n",
       "  </thead>\n",
       "  <tbody>\n",
       "    <tr>\n",
       "      <th>0</th>\n",
       "      <td>bigquery-public-data.austin_crime.crime</td>\n",
       "      <td>unique_key</td>\n",
       "      <td>20145040798.0, 20155003516.0, 20151881192.0, 2...</td>\n",
       "      <td>1000</td>\n",
       "      <td>1.770501e+10</td>\n",
       "      <td>6.230494e+09</td>\n",
       "      <td>2.015214e+10</td>\n",
       "      <td>0.0</td>\n",
       "      <td>NaN</td>\n",
       "    </tr>\n",
       "    <tr>\n",
       "      <th>1</th>\n",
       "      <td>bigquery-public-data.austin_crime.crime</td>\n",
       "      <td>address</td>\n",
       "      <td>1715 W CESAR CHAVEZ ST Austin, TX 78703 (30.27...</td>\n",
       "      <td>888</td>\n",
       "      <td>NaN</td>\n",
       "      <td>NaN</td>\n",
       "      <td>NaN</td>\n",
       "      <td>NaN</td>\n",
       "      <td>NaN</td>\n",
       "    </tr>\n",
       "    <tr>\n",
       "      <th>2</th>\n",
       "      <td>bigquery-public-data.austin_crime.crime</td>\n",
       "      <td>census_tract</td>\n",
       "      <td>18.21, 24.28, 23.07, 6.04, 18.39, 18.4, 12.0, ...</td>\n",
       "      <td>178</td>\n",
       "      <td>8.352951e+01</td>\n",
       "      <td>7.595945e+02</td>\n",
       "      <td>1.819000e+01</td>\n",
       "      <td>1.0</td>\n",
       "      <td>NaN</td>\n",
       "    </tr>\n",
       "    <tr>\n",
       "      <th>3</th>\n",
       "      <td>bigquery-public-data.austin_crime.crime</td>\n",
       "      <td>clearance_date</td>\n",
       "      <td>2015-05-21 12:00:00+00:00, 2014-05-29 12:00:00...</td>\n",
       "      <td>569</td>\n",
       "      <td>NaN</td>\n",
       "      <td>NaN</td>\n",
       "      <td>NaN</td>\n",
       "      <td>NaN</td>\n",
       "      <td>NaN</td>\n",
       "    </tr>\n",
       "    <tr>\n",
       "      <th>4</th>\n",
       "      <td>bigquery-public-data.austin_crime.crime</td>\n",
       "      <td>clearance_status</td>\n",
       "      <td>Not cleared, Not cleared, Not cleared, Not cle...</td>\n",
       "      <td>3</td>\n",
       "      <td>NaN</td>\n",
       "      <td>NaN</td>\n",
       "      <td>NaN</td>\n",
       "      <td>NaN</td>\n",
       "      <td>NaN</td>\n",
       "    </tr>\n",
       "    <tr>\n",
       "      <th>5</th>\n",
       "      <td>bigquery-public-data.austin_crime.crime</td>\n",
       "      <td>council_district_code</td>\n",
       "      <td>1.0, 4.0, 1.0, 2.0, 4.0, 5.0, 4.0, 7.0, 3.0, 3...</td>\n",
       "      <td>10</td>\n",
       "      <td>5.297679e+00</td>\n",
       "      <td>2.852464e+00</td>\n",
       "      <td>5.000000e+00</td>\n",
       "      <td>1.0</td>\n",
       "      <td>NaN</td>\n",
       "    </tr>\n",
       "    <tr>\n",
       "      <th>6</th>\n",
       "      <td>bigquery-public-data.austin_crime.crime</td>\n",
       "      <td>description</td>\n",
       "      <td>BURGLARY NON RESIDENCE        , BURG NON RESID...</td>\n",
       "      <td>30</td>\n",
       "      <td>NaN</td>\n",
       "      <td>NaN</td>\n",
       "      <td>NaN</td>\n",
       "      <td>NaN</td>\n",
       "      <td>NaN</td>\n",
       "    </tr>\n",
       "    <tr>\n",
       "      <th>7</th>\n",
       "      <td>bigquery-public-data.austin_crime.crime</td>\n",
       "      <td>district</td>\n",
       "      <td>B, D, F, E, I, B, I, E, A, F, G, D, D, C, G, F...</td>\n",
       "      <td>11</td>\n",
       "      <td>NaN</td>\n",
       "      <td>NaN</td>\n",
       "      <td>NaN</td>\n",
       "      <td>NaN</td>\n",
       "      <td>NaN</td>\n",
       "    </tr>\n",
       "    <tr>\n",
       "      <th>8</th>\n",
       "      <td>bigquery-public-data.austin_crime.crime</td>\n",
       "      <td>latitude</td>\n",
       "      <td>30.23763, nan, nan, nan, 30.264273, nan, 30.26...</td>\n",
       "      <td>270</td>\n",
       "      <td>3.029117e+01</td>\n",
       "      <td>7.353777e-02</td>\n",
       "      <td>3.027568e+01</td>\n",
       "      <td>1.0</td>\n",
       "      <td>NaN</td>\n",
       "    </tr>\n",
       "    <tr>\n",
       "      <th>9</th>\n",
       "      <td>bigquery-public-data.austin_crime.crime</td>\n",
       "      <td>longitude</td>\n",
       "      <td>nan, nan, nan, -97.83889, nan, nan, -97.739377...</td>\n",
       "      <td>266</td>\n",
       "      <td>-9.773527e+01</td>\n",
       "      <td>4.765600e-02</td>\n",
       "      <td>-9.772925e+01</td>\n",
       "      <td>1.0</td>\n",
       "      <td>NaN</td>\n",
       "    </tr>\n",
       "  </tbody>\n",
       "</table>\n",
       "</div>"
      ],
      "text/plain": [
       "                              dataset_name            column_name  \\\n",
       "0  bigquery-public-data.austin_crime.crime             unique_key   \n",
       "1  bigquery-public-data.austin_crime.crime                address   \n",
       "2  bigquery-public-data.austin_crime.crime           census_tract   \n",
       "3  bigquery-public-data.austin_crime.crime         clearance_date   \n",
       "4  bigquery-public-data.austin_crime.crime       clearance_status   \n",
       "5  bigquery-public-data.austin_crime.crime  council_district_code   \n",
       "6  bigquery-public-data.austin_crime.crime            description   \n",
       "7  bigquery-public-data.austin_crime.crime               district   \n",
       "8  bigquery-public-data.austin_crime.crime               latitude   \n",
       "9  bigquery-public-data.austin_crime.crime              longitude   \n",
       "\n",
       "                                       column_values  nunique_values  \\\n",
       "0  20145040798.0, 20155003516.0, 20151881192.0, 2...            1000   \n",
       "1  1715 W CESAR CHAVEZ ST Austin, TX 78703 (30.27...             888   \n",
       "2  18.21, 24.28, 23.07, 6.04, 18.39, 18.4, 12.0, ...             178   \n",
       "3  2015-05-21 12:00:00+00:00, 2014-05-29 12:00:00...             569   \n",
       "4  Not cleared, Not cleared, Not cleared, Not cle...               3   \n",
       "5  1.0, 4.0, 1.0, 2.0, 4.0, 5.0, 4.0, 7.0, 3.0, 3...              10   \n",
       "6  BURGLARY NON RESIDENCE        , BURG NON RESID...              30   \n",
       "7  B, D, F, E, I, B, I, E, A, F, G, D, D, C, G, F...              11   \n",
       "8  30.23763, nan, nan, nan, 30.264273, nan, 30.26...             270   \n",
       "9  nan, nan, nan, -97.83889, nan, nan, -97.739377...             266   \n",
       "\n",
       "           mean           std        median  shapiro_wilk_test  label  \n",
       "0  1.770501e+10  6.230494e+09  2.015214e+10                0.0    NaN  \n",
       "1           NaN           NaN           NaN                NaN    NaN  \n",
       "2  8.352951e+01  7.595945e+02  1.819000e+01                1.0    NaN  \n",
       "3           NaN           NaN           NaN                NaN    NaN  \n",
       "4           NaN           NaN           NaN                NaN    NaN  \n",
       "5  5.297679e+00  2.852464e+00  5.000000e+00                1.0    NaN  \n",
       "6           NaN           NaN           NaN                NaN    NaN  \n",
       "7           NaN           NaN           NaN                NaN    NaN  \n",
       "8  3.029117e+01  7.353777e-02  3.027568e+01                1.0    NaN  \n",
       "9 -9.773527e+01  4.765600e-02 -9.772925e+01                1.0    NaN  "
      ]
     },
     "execution_count": 199,
     "metadata": {},
     "output_type": "execute_result"
    }
   ],
   "source": [
    "dataset_name = \"bigquery-public-data.austin_crime.crime\"\n",
    "dataset_rows = [get_row(crime_df[col_name],dataset_name) for col_name in crime_df]\n",
    "output_dataset = pd.concat(dataset_rows, axis=0).reset_index(drop=True)\n",
    "output_dataset.head(10)\n",
    "    "
   ]
  },
  {
   "cell_type": "markdown",
   "metadata": {},
   "source": [
    "## Shapiro Value > 0.5 indicates Normality"
   ]
  },
  {
   "cell_type": "code",
   "execution_count": 197,
   "metadata": {},
   "outputs": [
    {
     "name": "stderr",
     "output_type": "stream",
     "text": [
      "/home/omer/.pyenv/versions/3.8.12/envs/classipy/lib/python3.8/site-packages/scipy/stats/morestats.py:1760: UserWarning: p-value may not be accurate for N > 5000.\n",
      "  warnings.warn(\"p-value may not be accurate for N > 5000.\")\n"
     ]
    },
    {
     "data": {
      "text/plain": [
       "ShapiroResult(statistic=nan, pvalue=1.0)"
      ]
     },
     "execution_count": 197,
     "metadata": {},
     "output_type": "execute_result"
    },
    {
     "data": {
      "image/png": "[encoded data removed]",
      "text/plain": [
       "<Figure size 432x288 with 1 Axes>"
      ]
     },
     "metadata": {
      "needs_background": "light"
     },
     "output_type": "display_data"
    }
   ],
   "source": [
    "crime_df.latitude.hist()\n",
    "shapiro(crime_df.latitude)\n"
   ]
  },
  {
   "cell_type": "code",
   "execution_count": null,
   "metadata": {},
   "outputs": [],
   "source": []
  }
 ],
 "metadata": {
  "interpreter": {
   "hash": "8ebc58da1a81adfb6e878c1af8bfa551e432c1f20013bc3e474dae18d27e825c"
  },
  "kernelspec": {
   "display_name": "Python 3.8.12 64-bit ('classipy': pyenv)",
   "language": "python",
   "name": "python3"
  },
  "language_info": {
   "codemirror_mode": {
    "name": "ipython",
    "version": 3
   },
   "file_extension": ".py",
   "mimetype": "text/x-python",
   "name": "python",
   "nbconvert_exporter": "python",
   "pygments_lexer": "ipython3",
   "version": "3.8.12"
  },
  "orig_nbformat": 4
 },
 "nbformat": 4,
 "nbformat_minor": 2
}
