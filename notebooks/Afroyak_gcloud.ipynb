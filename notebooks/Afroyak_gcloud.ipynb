{
 "cells": [
  {
   "cell_type": "markdown",
   "metadata": {},
   "source": [
    "# Handling GCloud"
   ]
  },
  {
   "cell_type": "code",
   "execution_count": 1,
   "metadata": {},
   "outputs": [],
   "source": [
    "from google.cloud import storage\n",
    "import os"
   ]
  },
  {
   "cell_type": "code",
   "execution_count": 2,
   "metadata": {},
   "outputs": [
    {
     "data": {
      "text/plain": [
       "'/home/omer/code/AfroYak/gcp/wagon-bootcamp-328009-30e7f93196db.json'"
      ]
     },
     "execution_count": 2,
     "metadata": {},
     "output_type": "execute_result"
    }
   ],
   "source": [
    "# os.environ['GOOGLE_APPLICATION_CREDENTIALS'] = 'drive/MyDrive/gcloud_creds.json'\n",
    "os.getenv('GOOGLE_APPLICATION_CREDENTIALS')"
   ]
  },
  {
   "cell_type": "markdown",
   "metadata": {},
   "source": [
    "\n",
    "#### Downloading data from gcloud"
   ]
  },
  {
   "cell_type": "code",
   "execution_count": 6,
   "metadata": {},
   "outputs": [],
   "source": [
    "def download_from_gcloud(\n",
    "    bucket_name=\"classipy_data_storage\",\n",
    "    object_folder='training_data/',\n",
    "    object_name=None,\n",
    "    destination_folder_path = 'data/'):\n",
    "\n",
    "    storage_client = storage.Client()\n",
    "    bucket = storage_client.bucket(bucket_name)\n",
    "\n",
    "    # Download only one file\n",
    "    if object_name:\n",
    "        blob = bucket.blob(object_folder+object_name)\n",
    "        try:\n",
    "                os.mkdir(destination_folder_path)\n",
    "        except FileExistsError:\n",
    "                print('Folder already exists')\n",
    "        blob.download_to_filename(destination_folder_path + object_name)\n",
    "        return None\n",
    "\n",
    "        \n",
    "    # Download all files in folder\n",
    "    for blob in bucket.list_blobs(prefix=object_folder):\n",
    "\n",
    "        *_, filename = blob.name.partition('/')\n",
    "        if filename:\n",
    "            print(filename)\n",
    "            try:\n",
    "                os.mkdir(destination_folder_path)\n",
    "            except FileExistsError:\n",
    "                print('Folder already exists')\n",
    "            blob.download_to_filename(destination_folder_path + filename)"
   ]
  },
  {
   "cell_type": "code",
   "execution_count": null,
   "metadata": {},
   "outputs": [],
   "source": [
    "download_from_gcloud(\n",
    "    bucket_name=\"classipy_data_storage\",\n",
    "    object_folder='training_data/',\n",
    "    destination_folder_path = 'data/')\n",
    "\n",
    "download_from_gcloud(\n",
    "    object_folder='trained_models/',\n",
    "    destination_folder_path = 'trained_models/')"
   ]
  },
  {
   "cell_type": "markdown",
   "metadata": {},
   "source": [
    "\n",
    "#### Uploading File to GCloud"
   ]
  },
  {
   "cell_type": "code",
   "execution_count": 5,
   "metadata": {},
   "outputs": [],
   "source": [
    "\n",
    "def upload_to_gcloud(\n",
    "    bucket_name=\"classipy_data_storage\",\n",
    "    destination_blob_folder=None,\n",
    "    destination_file_name = None,\n",
    "    source_file_path = None):\n",
    "\n",
    "    storage_client = storage.Client()\n",
    "    bucket = storage_client.bucket(bucket_name)\n",
    "\n",
    "    if destination_file_name is None:\n",
    "        *_, destination_file_name = source_file_path.rpartition('/')\n",
    "\n",
    "    blob = bucket.blob(os.path.join(destination_blob_folder,destination_file_name))\n",
    "    blob.upload_from_filename(source_file_path)\n"
   ]
  },
  {
   "cell_type": "code",
   "execution_count": null,
   "metadata": {},
   "outputs": [],
   "source": [
    "\n",
    "upload_to_gcloud(\n",
    "    destination_blob_folder='test',\n",
    "    destination_file_name = None,\n",
    "    source_file_path = './test.joblib')"
   ]
  },
  {
   "cell_type": "markdown",
   "metadata": {},
   "source": [
    "## Testing Version Control"
   ]
  },
  {
   "cell_type": "code",
   "execution_count": 3,
   "metadata": {},
   "outputs": [],
   "source": [
    "storage_client = storage.Client()\n",
    "bucket = storage_client.bucket(\"classipy_data_storage\")"
   ]
  },
  {
   "cell_type": "code",
   "execution_count": 79,
   "metadata": {},
   "outputs": [
    {
     "data": {
      "text/plain": [
       "[<Blob: classipy_data_storage, test/wtf.json, 1638445703223561>,\n",
       " <Blob: classipy_data_storage, trained_models/, 1638342413992731>,\n",
       " <Blob: classipy_data_storage, trained_models/ExtraTreesClassifier.joblib, 1638456800801891>,\n",
       " <Blob: classipy_data_storage, trained_models/KNeighborsClassifier.joblib, 1638456802460265>,\n",
       " <Blob: classipy_data_storage, trained_models/LGBMClassifier.joblib, 1638456801906984>,\n",
       " <Blob: classipy_data_storage, trained_models/RandomForest.joblib, 1638456800143936>,\n",
       " <Blob: classipy_data_storage, trained_models/XGBClassifier.joblib, 1638456801300912>,\n",
       " <Blob: classipy_data_storage, training_data/, 1638342444744954>,\n",
       " <Blob: classipy_data_storage, training_data/data_20k_unlabeled.json, 1638354885682604>,\n",
       " <Blob: classipy_data_storage, training_data/data_2500_labeled.json, 1638351706243668>,\n",
       " <Blob: classipy_data_storage, transformers/, 1638342429800176>]"
      ]
     },
     "execution_count": 79,
     "metadata": {},
     "output_type": "execute_result"
    }
   ],
   "source": [
    "list(bucket.list_blobs())"
   ]
  },
  {
   "cell_type": "code",
   "execution_count": 26,
   "metadata": {},
   "outputs": [],
   "source": [
    "blob = bucket.get_blob('trained_models/ExtraTreesClassifier.joblib')"
   ]
  },
  {
   "cell_type": "code",
   "execution_count": 27,
   "metadata": {},
   "outputs": [
    {
     "data": {
      "text/plain": [
       "{'name': 'trained_models/ExtraTreesClassifier.joblib',\n",
       " '_properties': {'kind': 'storage#object',\n",
       "  'id': 'classipy_data_storage/trained_models/ExtraTreesClassifier.joblib/1638441804721449',\n",
       "  'selfLink': 'https://www.googleapis.com/storage/v1/b/classipy_data_storage/o/trained_models%2FExtraTreesClassifier.joblib',\n",
       "  'mediaLink': 'https://storage.googleapis.com/download/storage/v1/b/classipy_data_storage/o/trained_models%2FExtraTreesClassifier.joblib?generation=1638441804721449&alt=media',\n",
       "  'name': 'trained_models/ExtraTreesClassifier.joblib',\n",
       "  'bucket': 'classipy_data_storage',\n",
       "  'generation': '1638441804721449',\n",
       "  'metageneration': '1',\n",
       "  'contentType': 'application/octet-stream',\n",
       "  'storageClass': 'STANDARD',\n",
       "  'size': '14615352',\n",
       "  'md5Hash': 'ihp4rlAOlHvnb3OX/KtNJA==',\n",
       "  'crc32c': 'VUj4MQ==',\n",
       "  'etag': 'CKnaha73xPQCEAE=',\n",
       "  'timeCreated': '2021-12-02T10:43:24.806Z',\n",
       "  'updated': '2021-12-02T10:43:24.806Z',\n",
       "  'timeStorageClassUpdated': '2021-12-02T10:43:24.806Z'},\n",
       " '_changes': set(),\n",
       " '_chunk_size': None,\n",
       " '_bucket': <Bucket: classipy_data_storage>,\n",
       " '_acl': <google.cloud.storage.acl.ObjectACL at 0x7f2f1e9f8940>,\n",
       " '_encryption_key': None}"
      ]
     },
     "execution_count": 27,
     "metadata": {},
     "output_type": "execute_result"
    }
   ],
   "source": [
    "blob.__dict__"
   ]
  },
  {
   "cell_type": "code",
   "execution_count": 30,
   "metadata": {},
   "outputs": [],
   "source": [
    "import datetime, time"
   ]
  },
  {
   "cell_type": "code",
   "execution_count": 77,
   "metadata": {},
   "outputs": [
    {
     "data": {
      "text/plain": [
       "datetime.datetime(2021, 12, 2, 10, 43, 24, 806000, tzinfo=datetime.timezone.utc)"
      ]
     },
     "execution_count": 77,
     "metadata": {},
     "output_type": "execute_result"
    }
   ],
   "source": [
    "gdrive_time = blob.time_created\n",
    "gdrive_time"
   ]
  },
  {
   "cell_type": "code",
   "execution_count": 62,
   "metadata": {},
   "outputs": [
    {
     "data": {
      "text/plain": [
       "datetime.datetime(2021, 12, 1, 12, 15, 28)"
      ]
     },
     "execution_count": 62,
     "metadata": {},
     "output_type": "execute_result"
    }
   ],
   "source": [
    "path = \"/home/omer/code/mareksherman/classipy/classipy/models/trained_models/ExtraTreesClassifier.joblib\"\n",
    "time_created = time.ctime(os.path.getctime(path))\n",
    "local_time = datetime.datetime.strptime(time_created, '%c')\n",
    "local_time"
   ]
  },
  {
   "cell_type": "code",
   "execution_count": 78,
   "metadata": {},
   "outputs": [
    {
     "data": {
      "text/plain": [
       "datetime.timedelta(0)"
      ]
     },
     "execution_count": 78,
     "metadata": {},
     "output_type": "execute_result"
    }
   ],
   "source": [
    "datetime.datetime.utcoffset(gdrive_time)"
   ]
  },
  {
   "cell_type": "code",
   "execution_count": null,
   "metadata": {},
   "outputs": [],
   "source": []
  }
 ],
 "metadata": {
  "interpreter": {
   "hash": "8ebc58da1a81adfb6e878c1af8bfa551e432c1f20013bc3e474dae18d27e825c"
  },
  "kernelspec": {
   "display_name": "Python 3.8.12 64-bit ('classipy': pyenv)",
   "language": "python",
   "name": "python3"
  },
  "language_info": {
   "codemirror_mode": {
    "name": "ipython",
    "version": 3
   },
   "file_extension": ".py",
   "mimetype": "text/x-python",
   "name": "python",
   "nbconvert_exporter": "python",
   "pygments_lexer": "ipython3",
   "version": "3.8.12"
  },
  "orig_nbformat": 4
 },
 "nbformat": 4,
 "nbformat_minor": 2
}
