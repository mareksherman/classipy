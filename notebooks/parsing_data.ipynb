{
 "cells": [
  {
   "cell_type": "code",
   "execution_count": 39,
   "id": "2245f1b5-da7a-4a83-9e0b-04be1c49b6d5",
   "metadata": {},
   "outputs": [],
   "source": [
    "'''\n",
    "column_type = label\n",
    "df[column] = df[column].apply(lambda x : parse(x,column_type))\n",
    "\n",
    "\n",
    "huerustic_predict(column_in) -> label\n",
    "'''\n",
    "\n",
    "import re\n",
    "import pandas as pd\n",
    "from dateutil.parser import parse"
   ]
  },
  {
   "cell_type": "code",
   "execution_count": 32,
   "id": "a84da363",
   "metadata": {},
   "outputs": [
    {
     "name": "stdout",
     "output_type": "stream",
     "text": [
      "<class 'pandas.core.frame.DataFrame'>\n",
      "RangeIndex: 5 entries, 0 to 4\n",
      "Data columns (total 6 columns):\n",
      " #   Column         Non-Null Count  Dtype  \n",
      "---  ------         --------------  -----  \n",
      " 0   int_test       5 non-null      object \n",
      " 1   date           5 non-null      object \n",
      " 2   int_num        5 non-null      int64  \n",
      " 3   float_num      5 non-null      float64\n",
      " 4   int_num_str    5 non-null      object \n",
      " 5   float_num_str  5 non-null      object \n",
      "dtypes: float64(1), int64(1), object(4)\n",
      "memory usage: 368.0+ bytes\n"
     ]
    }
   ],
   "source": [
    "\n",
    "int_pattern = re.compile('\\d*')\n",
    "float_pattern = re.compile('\\d*[.]\\d*')\n",
    "date_pattern = '' # HARD AF \n",
    "\n",
    "predictions = {'int_test':(True, 'int','Scaled'),\n",
    "               'date':(True, 'date',None),\n",
    "               'int_num':(True, 'int','Scaled'),\n",
    "               'float_num':(True, 'float','Scaled'),\n",
    "               'int_num_str':(True, 'int','Scaled'),\n",
    "               'float_num_str':(True, 'float','Scaled')\n",
    "              }\n",
    "\n",
    "int_test=['126 mins', '134 mins', '253_mins', '123,000', '53 seconds']\n",
    "date =['12/08/2012', '12 Aug 2022', '12/08/22','20-08-12','12-08-2021']\n",
    "int_num =[1,2000,346980,481464,654654]\n",
    "float_num =[13654.543,3546645.454,54654654.88,64655432.54654,6544453213.654521]\n",
    "int_num_str =['1','2000','346980','481464654654','64654']\n",
    "float_num_str =['13654.543','3546645.454','54654654.88','64655432.54654','6544453213.654521']\n",
    "\n",
    "\n",
    "df = pd.DataFrame({'int_test': int_test,\n",
    "                    'date': date,\n",
    "                    'int_num':int_num,\n",
    "                    'float_num':float_num,\n",
    "                    'int_num_str': int_num_str,\n",
    "                    'float_num_str':float_num_str})\n",
    "#or val in vals:\n",
    "#   matches = re.findall(int_pattern, val)\n",
    "#   m = \"\".join(matches).strip()\n",
    "#   print(int(m))\n",
    "\n",
    "\n",
    "'''\n",
    "CSV_IN\n",
    "GET_PREDICTIONS (ENSEMBLE OF MODELS THAT VOTE FOR 1 TYPE)\n",
    "CHOOSE_OPTIONS (TRANSFORMATIONS/ETC.)\n",
    "PARSE COLUMNS into predicted TYPE\n",
    "APPLY USER CHOSEN TRANSFORMATIONS/ETC.\n",
    "'''\n",
    "df.info()"
   ]
  },
  {
   "cell_type": "code",
   "execution_count": 28,
   "id": "d0def275",
   "metadata": {},
   "outputs": [
    {
     "data": {
      "text/html": [
       "<div>\n",
       "<style scoped>\n",
       "    .dataframe tbody tr th:only-of-type {\n",
       "        vertical-align: middle;\n",
       "    }\n",
       "\n",
       "    .dataframe tbody tr th {\n",
       "        vertical-align: top;\n",
       "    }\n",
       "\n",
       "    .dataframe thead th {\n",
       "        text-align: right;\n",
       "    }\n",
       "</style>\n",
       "<table border=\"1\" class=\"dataframe\">\n",
       "  <thead>\n",
       "    <tr style=\"text-align: right;\">\n",
       "      <th></th>\n",
       "      <th>column_name</th>\n",
       "      <th>include</th>\n",
       "      <th>type</th>\n",
       "      <th>transform</th>\n",
       "    </tr>\n",
       "  </thead>\n",
       "  <tbody>\n",
       "    <tr>\n",
       "      <th>0</th>\n",
       "      <td>int_test</td>\n",
       "      <td>True</td>\n",
       "      <td>int</td>\n",
       "      <td>Scaled</td>\n",
       "    </tr>\n",
       "    <tr>\n",
       "      <th>2</th>\n",
       "      <td>int_num</td>\n",
       "      <td>True</td>\n",
       "      <td>int</td>\n",
       "      <td>Scaled</td>\n",
       "    </tr>\n",
       "    <tr>\n",
       "      <th>4</th>\n",
       "      <td>int_num_str</td>\n",
       "      <td>True</td>\n",
       "      <td>int</td>\n",
       "      <td>Scaled</td>\n",
       "    </tr>\n",
       "  </tbody>\n",
       "</table>\n",
       "</div>"
      ],
      "text/plain": [
       "   column_name include type transform\n",
       "0     int_test    True  int    Scaled\n",
       "2      int_num    True  int    Scaled\n",
       "4  int_num_str    True  int    Scaled"
      ]
     },
     "execution_count": 28,
     "metadata": {},
     "output_type": "execute_result"
    }
   ],
   "source": [
    "df_pred = pd.DataFrame(predictions)\n",
    "df_pred.set_axis(['include','type','transform'], axis=0,inplace=True)\n",
    "df_pred = df_pred.T\n",
    "df_pred.reset_index(inplace=True)\n",
    "df_pred.rename(columns={'index':'column_name'},inplace=True)\n",
    "df_transf = df_pred.loc[df_pred['include']==True]\n",
    "df_transf_int = df_transf.loc[df_transf['type']=='int']\n",
    "df_transf_float = df_transf.loc[df_transf['type']=='float']\n",
    "df_transf_date = df_transf.loc[df_transf['type']=='date']\n",
    "df_transf_int"
   ]
  },
  {
   "cell_type": "code",
   "execution_count": 29,
   "id": "b606091d",
   "metadata": {},
   "outputs": [
    {
     "name": "stdout",
     "output_type": "stream",
     "text": [
      "<class 'pandas.core.frame.DataFrame'>\n",
      "RangeIndex: 5 entries, 0 to 4\n",
      "Data columns (total 6 columns):\n",
      " #   Column         Non-Null Count  Dtype  \n",
      "---  ------         --------------  -----  \n",
      " 0   int_test       5 non-null      int64  \n",
      " 1   date           5 non-null      object \n",
      " 2   int_num        5 non-null      int64  \n",
      " 3   float_num      5 non-null      float64\n",
      " 4   int_num_str    5 non-null      int64  \n",
      " 5   float_num_str  5 non-null      object \n",
      "dtypes: float64(1), int64(3), object(2)\n",
      "memory usage: 368.0+ bytes\n"
     ]
    }
   ],
   "source": [
    "for column_name in df:\n",
    "    if column_name in list(df_transf_int['column_name']):\n",
    "        int_column = []\n",
    "        for row in df[column_name].iteritems():\n",
    "            matches = re.findall(int_pattern, str(row[1]))\n",
    "            m = \"\".join(matches).strip()\n",
    "            int_column.append(int(m))\n",
    "        df[column_name] = int_column\n",
    "df.info()"
   ]
  },
  {
   "cell_type": "code",
   "execution_count": 42,
   "id": "5f613ba6",
   "metadata": {},
   "outputs": [
    {
     "name": "stdout",
     "output_type": "stream",
     "text": [
      "[datetime.datetime(2012, 12, 8, 0, 0), datetime.datetime(2022, 8, 12, 0, 0), datetime.datetime(2022, 12, 8, 0, 0), datetime.datetime(2012, 8, 20, 0, 0), datetime.datetime(2021, 12, 8, 0, 0)]\n",
      "<class 'pandas.core.frame.DataFrame'>\n",
      "RangeIndex: 5 entries, 0 to 4\n",
      "Data columns (total 6 columns):\n",
      " #   Column         Non-Null Count  Dtype         \n",
      "---  ------         --------------  -----         \n",
      " 0   int_test       5 non-null      object        \n",
      " 1   date           5 non-null      datetime64[ns]\n",
      " 2   int_num        5 non-null      int64         \n",
      " 3   float_num      5 non-null      float64       \n",
      " 4   int_num_str    5 non-null      object        \n",
      " 5   float_num_str  5 non-null      float64       \n",
      "dtypes: datetime64[ns](1), float64(2), int64(1), object(2)\n",
      "memory usage: 368.0+ bytes\n"
     ]
    }
   ],
   "source": [
    "for column_name in df:\n",
    "    if column_name in list(df_transf_date['column_name']):\n",
    "        date_column = []\n",
    "        for row in df[column_name].iteritems():\n",
    "            str(row[1])\n",
    "            m = parse(str(row[1]))\n",
    "            date_column.append(m)\n",
    "        df[column_name] = date_column\n",
    "df.info()"
   ]
  }
 ],
 "metadata": {
  "kernelspec": {
   "display_name": "Python 3 (ipykernel)",
   "language": "python",
   "name": "python3"
  },
  "language_info": {
   "codemirror_mode": {
    "name": "ipython",
    "version": 3
   },
   "file_extension": ".py",
   "mimetype": "text/x-python",
   "name": "python",
   "nbconvert_exporter": "python",
   "pygments_lexer": "ipython3",
   "version": "3.8.12"
  }
 },
 "nbformat": 4,
 "nbformat_minor": 5
}
