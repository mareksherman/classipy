{
 "cells": [
  {
   "cell_type": "code",
   "execution_count": 2,
   "id": "2245f1b5-da7a-4a83-9e0b-04be1c49b6d5",
   "metadata": {},
   "outputs": [
    {
     "data": {
      "text/plain": [
       "'\\nCSV_IN\\nGET_PREDICTIONS (ENSEMBLE OF MODELS THAT VOTE FOR 1 TYPE)\\nCHOOSE_OPTIONS (TRANSFORMATIONS/ETC.)\\nPARSE COLUMNS into predicted TYPE\\nAPPLY USER CHOSEN TRANSFORMATIONS/ETC.\\n'"
      ]
     },
     "execution_count": 2,
     "metadata": {},
     "output_type": "execute_result"
    }
   ],
   "source": [
    "'''\n",
    "column_type = label\n",
    "df[column] = df[column].apply(lambda x : parse(x,column_type))\n",
    "\n",
    "\n",
    "huerustic_predict(column_in) -> label\n",
    "'''\n",
    "\n",
    "import re\n",
    "\n",
    "int_pattern = re.compile('\\d*')\n",
    "float_pattern = re.compile('[+-]?([0-9]*[.])?[0-9]+')\n",
    "date_pattern = '' # HARD AF \n",
    "\n",
    "predictions = {'int_test':(True, 'int','Scaled'),\n",
    "               'date':(True, 'date',None),\n",
    "               'int_num':(True, 'int','Scaled'),\n",
    "               'float_num':(True, 'float','Scaled'),\n",
    "               'int_num_str':(True, 'int','Scaled'),\n",
    "               'float_num_str':(True, 'float','Scaled')\n",
    "              }\n",
    "\n",
    "int_test=['126 mins', '134 mins', '253_mins', '123,000', '53 seconds']\n",
    "date =['12/08/2012', '12 Aug 2022', '12/08/22','20-08-12','12-08-2021']\n",
    "int_num =[1,2000,346980,481464,654654]\n",
    "float_num =[13654.543,3546645.454,54654654.88,64655432.54654,6544453213.654521]\n",
    "int_num_str =['1','2000','346980','481464,654654']\n",
    "float_num_str =['13654.543','3546645.454','54654654.88','64655432.54654','6544453213.654521']\n",
    "\n",
    "data_tuples = list(zip(Month,Days))\n",
    "#or val in vals:\n",
    "#   matches = re.findall(int_pattern, val)\n",
    "#   m = \"\".join(matches).strip()\n",
    "#   print(int(m))\n",
    "\n",
    "\n",
    "'''\n",
    "CSV_IN\n",
    "GET_PREDICTIONS (ENSEMBLE OF MODELS THAT VOTE FOR 1 TYPE)\n",
    "CHOOSE_OPTIONS (TRANSFORMATIONS/ETC.)\n",
    "PARSE COLUMNS into predicted TYPE\n",
    "APPLY USER CHOSEN TRANSFORMATIONS/ETC.\n",
    "'''"
   ]
  }
 ],
 "metadata": {
  "kernelspec": {
   "display_name": "Python 3 (ipykernel)",
   "language": "python",
   "name": "python3"
  },
  "language_info": {
   "codemirror_mode": {
    "name": "ipython",
    "version": 3
   },
   "file_extension": ".py",
   "mimetype": "text/x-python",
   "name": "python",
   "nbconvert_exporter": "python",
   "pygments_lexer": "ipython3",
   "version": "3.8.12"
  }
 },
 "nbformat": 4,
 "nbformat_minor": 5
}
