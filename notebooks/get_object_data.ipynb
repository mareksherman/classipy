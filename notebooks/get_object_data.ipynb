{
 "cells": [
  {
   "cell_type": "code",
   "execution_count": 2,
   "metadata": {},
   "outputs": [],
   "source": [
    "import pandas as pd\n",
    "import numpy as np"
   ]
  },
  {
   "cell_type": "code",
   "execution_count": 18,
   "metadata": {},
   "outputs": [],
   "source": [
    "df = pd.read_csv('../raw_data/kaggle_data.csv')"
   ]
  },
  {
   "cell_type": "code",
   "execution_count": 19,
   "metadata": {},
   "outputs": [
    {
     "data": {
      "text/html": [
       "<div>\n",
       "<style scoped>\n",
       "    .dataframe tbody tr th:only-of-type {\n",
       "        vertical-align: middle;\n",
       "    }\n",
       "\n",
       "    .dataframe tbody tr th {\n",
       "        vertical-align: top;\n",
       "    }\n",
       "\n",
       "    .dataframe thead th {\n",
       "        text-align: right;\n",
       "    }\n",
       "</style>\n",
       "<table border=\"1\" class=\"dataframe\">\n",
       "  <thead>\n",
       "    <tr style=\"text-align: right;\">\n",
       "      <th></th>\n",
       "      <th>dataset_name</th>\n",
       "      <th>table_name</th>\n",
       "      <th>column_name</th>\n",
       "      <th>label</th>\n",
       "      <th>column_values</th>\n",
       "      <th>column_values_unique</th>\n",
       "      <th>nunique_values</th>\n",
       "      <th>mean</th>\n",
       "      <th>std</th>\n",
       "      <th>median</th>\n",
       "      <th>skew</th>\n",
       "      <th>kurt</th>\n",
       "      <th>shapiro_wilk_test</th>\n",
       "    </tr>\n",
       "  </thead>\n",
       "  <tbody>\n",
       "    <tr>\n",
       "      <th>0</th>\n",
       "      <td>nareshbhat/health-care-data-set-on-heart-attac...</td>\n",
       "      <td>heart.csv</td>\n",
       "      <td>age</td>\n",
       "      <td>NaN</td>\n",
       "      <td>['63, 37, 41, 56, 57, 57, 56, 44, 52, 57, 54, ...</td>\n",
       "      <td>[63 37 41 56 57 44 52 54 48 49 64 58 50 66 43 ...</td>\n",
       "      <td>41</td>\n",
       "      <td>54.366337</td>\n",
       "      <td>9.082101</td>\n",
       "      <td>55.0</td>\n",
       "      <td>-0.202463</td>\n",
       "      <td>-0.542167</td>\n",
       "      <td>5.800190e-03</td>\n",
       "    </tr>\n",
       "    <tr>\n",
       "      <th>1</th>\n",
       "      <td>nareshbhat/health-care-data-set-on-heart-attac...</td>\n",
       "      <td>heart.csv</td>\n",
       "      <td>sex</td>\n",
       "      <td>NaN</td>\n",
       "      <td>['1, 1, 0, 1, 0, 1, 0, 1, 1, 1, 1, 0, 1, 1, 0,...</td>\n",
       "      <td>[1 0]</td>\n",
       "      <td>2</td>\n",
       "      <td>0.683168</td>\n",
       "      <td>0.466011</td>\n",
       "      <td>1.0</td>\n",
       "      <td>-0.791335</td>\n",
       "      <td>-1.382961</td>\n",
       "      <td>2.750313e-26</td>\n",
       "    </tr>\n",
       "    <tr>\n",
       "      <th>2</th>\n",
       "      <td>nareshbhat/health-care-data-set-on-heart-attac...</td>\n",
       "      <td>heart.csv</td>\n",
       "      <td>cp</td>\n",
       "      <td>NaN</td>\n",
       "      <td>['3, 2, 1, 1, 0, 0, 1, 1, 2, 2, 0, 2, 1, 3, 3,...</td>\n",
       "      <td>[3 2 1 0]</td>\n",
       "      <td>4</td>\n",
       "      <td>0.966997</td>\n",
       "      <td>1.032052</td>\n",
       "      <td>1.0</td>\n",
       "      <td>0.484732</td>\n",
       "      <td>-1.193071</td>\n",
       "      <td>1.857026e-19</td>\n",
       "    </tr>\n",
       "    <tr>\n",
       "      <th>3</th>\n",
       "      <td>nareshbhat/health-care-data-set-on-heart-attac...</td>\n",
       "      <td>heart.csv</td>\n",
       "      <td>trestbps</td>\n",
       "      <td>NaN</td>\n",
       "      <td>['145, 130, 130, 120, 120, 140, 140, 120, 172,...</td>\n",
       "      <td>[145 130 120 140 172 150 110 135 160 105 125 1...</td>\n",
       "      <td>49</td>\n",
       "      <td>131.623762</td>\n",
       "      <td>17.538143</td>\n",
       "      <td>130.0</td>\n",
       "      <td>0.713768</td>\n",
       "      <td>0.929054</td>\n",
       "      <td>1.458000e-06</td>\n",
       "    </tr>\n",
       "    <tr>\n",
       "      <th>4</th>\n",
       "      <td>nareshbhat/health-care-data-set-on-heart-attac...</td>\n",
       "      <td>heart.csv</td>\n",
       "      <td>chol</td>\n",
       "      <td>NaN</td>\n",
       "      <td>['233, 250, 204, 236, 354, 192, 294, 263, 199,...</td>\n",
       "      <td>[233 250 204 236 354 192 294 263 199 168 239 2...</td>\n",
       "      <td>152</td>\n",
       "      <td>246.264026</td>\n",
       "      <td>51.830751</td>\n",
       "      <td>240.0</td>\n",
       "      <td>1.143401</td>\n",
       "      <td>4.505423</td>\n",
       "      <td>5.364669e-09</td>\n",
       "    </tr>\n",
       "  </tbody>\n",
       "</table>\n",
       "</div>"
      ],
      "text/plain": [
       "                                        dataset_name table_name column_name  \\\n",
       "0  nareshbhat/health-care-data-set-on-heart-attac...  heart.csv         age   \n",
       "1  nareshbhat/health-care-data-set-on-heart-attac...  heart.csv         sex   \n",
       "2  nareshbhat/health-care-data-set-on-heart-attac...  heart.csv          cp   \n",
       "3  nareshbhat/health-care-data-set-on-heart-attac...  heart.csv    trestbps   \n",
       "4  nareshbhat/health-care-data-set-on-heart-attac...  heart.csv        chol   \n",
       "\n",
       "   label                                      column_values  \\\n",
       "0    NaN  ['63, 37, 41, 56, 57, 57, 56, 44, 52, 57, 54, ...   \n",
       "1    NaN  ['1, 1, 0, 1, 0, 1, 0, 1, 1, 1, 1, 0, 1, 1, 0,...   \n",
       "2    NaN  ['3, 2, 1, 1, 0, 0, 1, 1, 2, 2, 0, 2, 1, 3, 3,...   \n",
       "3    NaN  ['145, 130, 130, 120, 120, 140, 140, 120, 172,...   \n",
       "4    NaN  ['233, 250, 204, 236, 354, 192, 294, 263, 199,...   \n",
       "\n",
       "                                column_values_unique  nunique_values  \\\n",
       "0  [63 37 41 56 57 44 52 54 48 49 64 58 50 66 43 ...              41   \n",
       "1                                              [1 0]               2   \n",
       "2                                          [3 2 1 0]               4   \n",
       "3  [145 130 120 140 172 150 110 135 160 105 125 1...              49   \n",
       "4  [233 250 204 236 354 192 294 263 199 168 239 2...             152   \n",
       "\n",
       "         mean        std  median      skew      kurt  shapiro_wilk_test  \n",
       "0   54.366337   9.082101    55.0 -0.202463 -0.542167       5.800190e-03  \n",
       "1    0.683168   0.466011     1.0 -0.791335 -1.382961       2.750313e-26  \n",
       "2    0.966997   1.032052     1.0  0.484732 -1.193071       1.857026e-19  \n",
       "3  131.623762  17.538143   130.0  0.713768  0.929054       1.458000e-06  \n",
       "4  246.264026  51.830751   240.0  1.143401  4.505423       5.364669e-09  "
      ]
     },
     "execution_count": 19,
     "metadata": {},
     "output_type": "execute_result"
    }
   ],
   "source": [
    "df.head()"
   ]
  },
  {
   "cell_type": "code",
   "execution_count": 12,
   "metadata": {},
   "outputs": [],
   "source": [
    "object_df = df[df['column_values'].str.contains('e')]"
   ]
  },
  {
   "cell_type": "code",
   "execution_count": 15,
   "metadata": {},
   "outputs": [
    {
     "name": "stderr",
     "output_type": "stream",
     "text": [
      "/var/folders/yn/qzk0b4790t133q4qjttr2ykw0000gn/T/ipykernel_31102/4215627063.py:1: UserWarning: Boolean Series key will be reindexed to match DataFrame index.\n",
      "  output_df = object_df[df['dataset_name'].str.contains('antgoldbloom') == False]\n"
     ]
    }
   ],
   "source": [
    "output_df = object_df[df['dataset_name'].str.contains('antgoldbloom') == False]"
   ]
  },
  {
   "cell_type": "code",
   "execution_count": 16,
   "metadata": {},
   "outputs": [],
   "source": [
    "output_df.to_csv('../raw_data/objects_kaggle_data.csv')"
   ]
  },
  {
   "cell_type": "code",
   "execution_count": null,
   "metadata": {},
   "outputs": [],
   "source": []
  }
 ],
 "metadata": {
  "interpreter": {
   "hash": "b05c3d251e16ea484b80a0cb5541d411df7721fc3ff05cf1e7db591956293ddf"
  },
  "kernelspec": {
   "display_name": "Python 3.8.12 64-bit ('shims': pyenv)",
   "language": "python",
   "name": "python3"
  },
  "language_info": {
   "codemirror_mode": {
    "name": "ipython",
    "version": 3
   },
   "file_extension": ".py",
   "mimetype": "text/x-python",
   "name": "python",
   "nbconvert_exporter": "python",
   "pygments_lexer": "ipython3",
   "version": "3.8.12"
  },
  "orig_nbformat": 4
 },
 "nbformat": 4,
 "nbformat_minor": 2
}
